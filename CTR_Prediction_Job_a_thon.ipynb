{
  "nbformat": 4,
  "nbformat_minor": 0,
  "metadata": {
    "colab": {
      "name": "CTR Prediction Job-a-thon.ipynb",
      "provenance": [],
      "collapsed_sections": []
    },
    "kernelspec": {
      "name": "python3",
      "display_name": "Python 3"
    },
    "language_info": {
      "name": "python"
    }
  },
  "cells": [
    {
      "cell_type": "code",
      "execution_count": 84,
      "metadata": {
        "colab": {
          "base_uri": "https://localhost:8080/"
        },
        "id": "CCEZBBV69vql",
        "outputId": "8e2e343f-c6c0-4044-fe17-e6eec984bd35"
      },
      "outputs": [
        {
          "output_type": "stream",
          "name": "stdout",
          "text": [
            "Drive already mounted at /content/drive; to attempt to forcibly remount, call drive.mount(\"/content/drive\", force_remount=True).\n"
          ]
        }
      ],
      "source": [
        "from google.colab import drive\n",
        "drive.mount(\"/content/drive\")"
      ]
    },
    {
      "cell_type": "code",
      "source": [
        "import pandas as pd\n",
        "import numpy as np \n",
        "import matplotlib.pyplot as plt\n",
        "import seaborn as sns\n",
        "\n",
        "from sklearn.metrics import mean_absolute_error\n",
        "from sklearn.metrics import mean_squared_error\n",
        "\n",
        "from sklearn.model_selection import cross_val_score\n",
        "from sklearn.tree import DecisionTreeRegressor\n",
        "from sklearn.ensemble import RandomForestRegressor\n",
        "from sklearn.linear_model import Lasso\n",
        "from sklearn.neighbors import KNeighborsRegressor\n",
        "\n",
        "from sklearn.linear_model import LinearRegression\n",
        "\n",
        "from sklearn.metrics import r2_score\n",
        "from sklearn.ensemble import RandomForestRegressor\n",
        "\n",
        "import warnings\n",
        "warnings.filterwarnings(\"ignore\")"
      ],
      "metadata": {
        "id": "Ub2dA-uR94DS"
      },
      "execution_count": 85,
      "outputs": []
    },
    {
      "cell_type": "code",
      "source": [
        "#LOADING THE TRAIN DATASET\n",
        "df_train1= pd.read_csv(\"/content/drive/MyDrive/ML/Data/Practice Tests/train_F3fUq2S.csv\")\n",
        "df_train=df_train1.copy()\n",
        "print(\"Train Data set : \\n\")\n",
        "df_train.head()"
      ],
      "metadata": {
        "colab": {
          "base_uri": "https://localhost:8080/",
          "height": 336
        },
        "id": "u88whJ6Z-Wco",
        "outputId": "7cd21699-b612-4d66-884e-e2bb1fa3909b"
      },
      "execution_count": 86,
      "outputs": [
        {
          "output_type": "stream",
          "name": "stdout",
          "text": [
            "Train Data set : \n",
            "\n"
          ]
        },
        {
          "output_type": "execute_result",
          "data": {
            "text/plain": [
              "   campaign_id  sender  subject_len  body_len  mean_paragraph_len  \\\n",
              "0            1       3           76     10439                  39   \n",
              "1            2       3           54      2570                 256   \n",
              "2            3       3           59     12801                  16   \n",
              "3            4       3           74     11037                  30   \n",
              "4            5       3           80     10011                  27   \n",
              "\n",
              "   day_of_week  is_weekend times_of_day  category  product  ...  is_image  \\\n",
              "0            5           1         Noon         6       26  ...         0   \n",
              "1            5           1      Morning         2       11  ...         0   \n",
              "2            5           1         Noon         2       11  ...         1   \n",
              "3            4           0      Evening        15        9  ...         0   \n",
              "4            5           1         Noon         6       26  ...         0   \n",
              "\n",
              "   is_personalised  is_quote  is_timer  is_emoticons  is_discount  is_price  \\\n",
              "0                0         0         0             0            0         0   \n",
              "1                0         0         0             0            0         0   \n",
              "2                0         1         0             0            0         0   \n",
              "3                0         0         0             0            0         0   \n",
              "4                0         1         0             0            0         0   \n",
              "\n",
              "   is_urgency  target_audience  click_rate  \n",
              "0           0               14    0.103079  \n",
              "1           0               10    0.700000  \n",
              "2           0               16    0.002769  \n",
              "3           0               10    0.010868  \n",
              "4           0               14    0.142826  \n",
              "\n",
              "[5 rows x 22 columns]"
            ],
            "text/html": [
              "\n",
              "  <div id=\"df-7df8ae97-3a48-439f-ab1b-2dfbbc882097\">\n",
              "    <div class=\"colab-df-container\">\n",
              "      <div>\n",
              "<style scoped>\n",
              "    .dataframe tbody tr th:only-of-type {\n",
              "        vertical-align: middle;\n",
              "    }\n",
              "\n",
              "    .dataframe tbody tr th {\n",
              "        vertical-align: top;\n",
              "    }\n",
              "\n",
              "    .dataframe thead th {\n",
              "        text-align: right;\n",
              "    }\n",
              "</style>\n",
              "<table border=\"1\" class=\"dataframe\">\n",
              "  <thead>\n",
              "    <tr style=\"text-align: right;\">\n",
              "      <th></th>\n",
              "      <th>campaign_id</th>\n",
              "      <th>sender</th>\n",
              "      <th>subject_len</th>\n",
              "      <th>body_len</th>\n",
              "      <th>mean_paragraph_len</th>\n",
              "      <th>day_of_week</th>\n",
              "      <th>is_weekend</th>\n",
              "      <th>times_of_day</th>\n",
              "      <th>category</th>\n",
              "      <th>product</th>\n",
              "      <th>...</th>\n",
              "      <th>is_image</th>\n",
              "      <th>is_personalised</th>\n",
              "      <th>is_quote</th>\n",
              "      <th>is_timer</th>\n",
              "      <th>is_emoticons</th>\n",
              "      <th>is_discount</th>\n",
              "      <th>is_price</th>\n",
              "      <th>is_urgency</th>\n",
              "      <th>target_audience</th>\n",
              "      <th>click_rate</th>\n",
              "    </tr>\n",
              "  </thead>\n",
              "  <tbody>\n",
              "    <tr>\n",
              "      <th>0</th>\n",
              "      <td>1</td>\n",
              "      <td>3</td>\n",
              "      <td>76</td>\n",
              "      <td>10439</td>\n",
              "      <td>39</td>\n",
              "      <td>5</td>\n",
              "      <td>1</td>\n",
              "      <td>Noon</td>\n",
              "      <td>6</td>\n",
              "      <td>26</td>\n",
              "      <td>...</td>\n",
              "      <td>0</td>\n",
              "      <td>0</td>\n",
              "      <td>0</td>\n",
              "      <td>0</td>\n",
              "      <td>0</td>\n",
              "      <td>0</td>\n",
              "      <td>0</td>\n",
              "      <td>0</td>\n",
              "      <td>14</td>\n",
              "      <td>0.103079</td>\n",
              "    </tr>\n",
              "    <tr>\n",
              "      <th>1</th>\n",
              "      <td>2</td>\n",
              "      <td>3</td>\n",
              "      <td>54</td>\n",
              "      <td>2570</td>\n",
              "      <td>256</td>\n",
              "      <td>5</td>\n",
              "      <td>1</td>\n",
              "      <td>Morning</td>\n",
              "      <td>2</td>\n",
              "      <td>11</td>\n",
              "      <td>...</td>\n",
              "      <td>0</td>\n",
              "      <td>0</td>\n",
              "      <td>0</td>\n",
              "      <td>0</td>\n",
              "      <td>0</td>\n",
              "      <td>0</td>\n",
              "      <td>0</td>\n",
              "      <td>0</td>\n",
              "      <td>10</td>\n",
              "      <td>0.700000</td>\n",
              "    </tr>\n",
              "    <tr>\n",
              "      <th>2</th>\n",
              "      <td>3</td>\n",
              "      <td>3</td>\n",
              "      <td>59</td>\n",
              "      <td>12801</td>\n",
              "      <td>16</td>\n",
              "      <td>5</td>\n",
              "      <td>1</td>\n",
              "      <td>Noon</td>\n",
              "      <td>2</td>\n",
              "      <td>11</td>\n",
              "      <td>...</td>\n",
              "      <td>1</td>\n",
              "      <td>0</td>\n",
              "      <td>1</td>\n",
              "      <td>0</td>\n",
              "      <td>0</td>\n",
              "      <td>0</td>\n",
              "      <td>0</td>\n",
              "      <td>0</td>\n",
              "      <td>16</td>\n",
              "      <td>0.002769</td>\n",
              "    </tr>\n",
              "    <tr>\n",
              "      <th>3</th>\n",
              "      <td>4</td>\n",
              "      <td>3</td>\n",
              "      <td>74</td>\n",
              "      <td>11037</td>\n",
              "      <td>30</td>\n",
              "      <td>4</td>\n",
              "      <td>0</td>\n",
              "      <td>Evening</td>\n",
              "      <td>15</td>\n",
              "      <td>9</td>\n",
              "      <td>...</td>\n",
              "      <td>0</td>\n",
              "      <td>0</td>\n",
              "      <td>0</td>\n",
              "      <td>0</td>\n",
              "      <td>0</td>\n",
              "      <td>0</td>\n",
              "      <td>0</td>\n",
              "      <td>0</td>\n",
              "      <td>10</td>\n",
              "      <td>0.010868</td>\n",
              "    </tr>\n",
              "    <tr>\n",
              "      <th>4</th>\n",
              "      <td>5</td>\n",
              "      <td>3</td>\n",
              "      <td>80</td>\n",
              "      <td>10011</td>\n",
              "      <td>27</td>\n",
              "      <td>5</td>\n",
              "      <td>1</td>\n",
              "      <td>Noon</td>\n",
              "      <td>6</td>\n",
              "      <td>26</td>\n",
              "      <td>...</td>\n",
              "      <td>0</td>\n",
              "      <td>0</td>\n",
              "      <td>1</td>\n",
              "      <td>0</td>\n",
              "      <td>0</td>\n",
              "      <td>0</td>\n",
              "      <td>0</td>\n",
              "      <td>0</td>\n",
              "      <td>14</td>\n",
              "      <td>0.142826</td>\n",
              "    </tr>\n",
              "  </tbody>\n",
              "</table>\n",
              "<p>5 rows × 22 columns</p>\n",
              "</div>\n",
              "      <button class=\"colab-df-convert\" onclick=\"convertToInteractive('df-7df8ae97-3a48-439f-ab1b-2dfbbc882097')\"\n",
              "              title=\"Convert this dataframe to an interactive table.\"\n",
              "              style=\"display:none;\">\n",
              "        \n",
              "  <svg xmlns=\"http://www.w3.org/2000/svg\" height=\"24px\"viewBox=\"0 0 24 24\"\n",
              "       width=\"24px\">\n",
              "    <path d=\"M0 0h24v24H0V0z\" fill=\"none\"/>\n",
              "    <path d=\"M18.56 5.44l.94 2.06.94-2.06 2.06-.94-2.06-.94-.94-2.06-.94 2.06-2.06.94zm-11 1L8.5 8.5l.94-2.06 2.06-.94-2.06-.94L8.5 2.5l-.94 2.06-2.06.94zm10 10l.94 2.06.94-2.06 2.06-.94-2.06-.94-.94-2.06-.94 2.06-2.06.94z\"/><path d=\"M17.41 7.96l-1.37-1.37c-.4-.4-.92-.59-1.43-.59-.52 0-1.04.2-1.43.59L10.3 9.45l-7.72 7.72c-.78.78-.78 2.05 0 2.83L4 21.41c.39.39.9.59 1.41.59.51 0 1.02-.2 1.41-.59l7.78-7.78 2.81-2.81c.8-.78.8-2.07 0-2.86zM5.41 20L4 18.59l7.72-7.72 1.47 1.35L5.41 20z\"/>\n",
              "  </svg>\n",
              "      </button>\n",
              "      \n",
              "  <style>\n",
              "    .colab-df-container {\n",
              "      display:flex;\n",
              "      flex-wrap:wrap;\n",
              "      gap: 12px;\n",
              "    }\n",
              "\n",
              "    .colab-df-convert {\n",
              "      background-color: #E8F0FE;\n",
              "      border: none;\n",
              "      border-radius: 50%;\n",
              "      cursor: pointer;\n",
              "      display: none;\n",
              "      fill: #1967D2;\n",
              "      height: 32px;\n",
              "      padding: 0 0 0 0;\n",
              "      width: 32px;\n",
              "    }\n",
              "\n",
              "    .colab-df-convert:hover {\n",
              "      background-color: #E2EBFA;\n",
              "      box-shadow: 0px 1px 2px rgba(60, 64, 67, 0.3), 0px 1px 3px 1px rgba(60, 64, 67, 0.15);\n",
              "      fill: #174EA6;\n",
              "    }\n",
              "\n",
              "    [theme=dark] .colab-df-convert {\n",
              "      background-color: #3B4455;\n",
              "      fill: #D2E3FC;\n",
              "    }\n",
              "\n",
              "    [theme=dark] .colab-df-convert:hover {\n",
              "      background-color: #434B5C;\n",
              "      box-shadow: 0px 1px 3px 1px rgba(0, 0, 0, 0.15);\n",
              "      filter: drop-shadow(0px 1px 2px rgba(0, 0, 0, 0.3));\n",
              "      fill: #FFFFFF;\n",
              "    }\n",
              "  </style>\n",
              "\n",
              "      <script>\n",
              "        const buttonEl =\n",
              "          document.querySelector('#df-7df8ae97-3a48-439f-ab1b-2dfbbc882097 button.colab-df-convert');\n",
              "        buttonEl.style.display =\n",
              "          google.colab.kernel.accessAllowed ? 'block' : 'none';\n",
              "\n",
              "        async function convertToInteractive(key) {\n",
              "          const element = document.querySelector('#df-7df8ae97-3a48-439f-ab1b-2dfbbc882097');\n",
              "          const dataTable =\n",
              "            await google.colab.kernel.invokeFunction('convertToInteractive',\n",
              "                                                     [key], {});\n",
              "          if (!dataTable) return;\n",
              "\n",
              "          const docLinkHtml = 'Like what you see? Visit the ' +\n",
              "            '<a target=\"_blank\" href=https://colab.research.google.com/notebooks/data_table.ipynb>data table notebook</a>'\n",
              "            + ' to learn more about interactive tables.';\n",
              "          element.innerHTML = '';\n",
              "          dataTable['output_type'] = 'display_data';\n",
              "          await google.colab.output.renderOutput(dataTable, element);\n",
              "          const docLink = document.createElement('div');\n",
              "          docLink.innerHTML = docLinkHtml;\n",
              "          element.appendChild(docLink);\n",
              "        }\n",
              "      </script>\n",
              "    </div>\n",
              "  </div>\n",
              "  "
            ]
          },
          "metadata": {},
          "execution_count": 86
        }
      ]
    },
    {
      "cell_type": "code",
      "source": [
        "#LOADING THE TEST DATASET\n",
        "df_test1 = pd.read_csv(\"/content/drive/MyDrive/ML/Data/Practice Tests/test_Bk2wfZ3.csv\")\n",
        "df_test=df_test1.copy()\n",
        "print(\"Test Data set : \\n\")\n",
        "df_test.head()"
      ],
      "metadata": {
        "colab": {
          "base_uri": "https://localhost:8080/",
          "height": 336
        },
        "id": "eeHglUnCUEqC",
        "outputId": "2dc0e5f0-5ea6-4190-bbe7-22cf5b48e6da"
      },
      "execution_count": 87,
      "outputs": [
        {
          "output_type": "stream",
          "name": "stdout",
          "text": [
            "Test Data set : \n",
            "\n"
          ]
        },
        {
          "output_type": "execute_result",
          "data": {
            "text/plain": [
              "   campaign_id  sender  subject_len  body_len  mean_paragraph_len  \\\n",
              "0         1889       3           61     12871                  11   \n",
              "1         1890       3           54      2569                 256   \n",
              "2         1891       3           88      1473                  78   \n",
              "3         1892       3           88      1473                  78   \n",
              "4         1893       3           78      9020                  29   \n",
              "\n",
              "   day_of_week  is_weekend times_of_day  category  product  ...  mean_CTA_len  \\\n",
              "0            6           1         Noon         6       26  ...            37   \n",
              "1            5           1      Morning         2       11  ...            22   \n",
              "2            4           0      Evening         2       11  ...            22   \n",
              "3            3           0      Evening         2       11  ...            22   \n",
              "4            3           0         Noon         6       26  ...            40   \n",
              "\n",
              "   is_image  is_personalised  is_quote  is_timer  is_emoticons  is_discount  \\\n",
              "0         1                0         0         0             1            0   \n",
              "1         0                0         0         0             0            0   \n",
              "2         1                0         1         0             0            0   \n",
              "3         1                0         1         0             0            0   \n",
              "4         0                0         0         0             0            0   \n",
              "\n",
              "   is_price  is_urgency  target_audience  \n",
              "0         0           0               14  \n",
              "1         0           0               10  \n",
              "2         0           0               10  \n",
              "3         0           0               10  \n",
              "4         0           0               14  \n",
              "\n",
              "[5 rows x 21 columns]"
            ],
            "text/html": [
              "\n",
              "  <div id=\"df-a3df9191-bd7c-4d14-9237-9108f9fe345d\">\n",
              "    <div class=\"colab-df-container\">\n",
              "      <div>\n",
              "<style scoped>\n",
              "    .dataframe tbody tr th:only-of-type {\n",
              "        vertical-align: middle;\n",
              "    }\n",
              "\n",
              "    .dataframe tbody tr th {\n",
              "        vertical-align: top;\n",
              "    }\n",
              "\n",
              "    .dataframe thead th {\n",
              "        text-align: right;\n",
              "    }\n",
              "</style>\n",
              "<table border=\"1\" class=\"dataframe\">\n",
              "  <thead>\n",
              "    <tr style=\"text-align: right;\">\n",
              "      <th></th>\n",
              "      <th>campaign_id</th>\n",
              "      <th>sender</th>\n",
              "      <th>subject_len</th>\n",
              "      <th>body_len</th>\n",
              "      <th>mean_paragraph_len</th>\n",
              "      <th>day_of_week</th>\n",
              "      <th>is_weekend</th>\n",
              "      <th>times_of_day</th>\n",
              "      <th>category</th>\n",
              "      <th>product</th>\n",
              "      <th>...</th>\n",
              "      <th>mean_CTA_len</th>\n",
              "      <th>is_image</th>\n",
              "      <th>is_personalised</th>\n",
              "      <th>is_quote</th>\n",
              "      <th>is_timer</th>\n",
              "      <th>is_emoticons</th>\n",
              "      <th>is_discount</th>\n",
              "      <th>is_price</th>\n",
              "      <th>is_urgency</th>\n",
              "      <th>target_audience</th>\n",
              "    </tr>\n",
              "  </thead>\n",
              "  <tbody>\n",
              "    <tr>\n",
              "      <th>0</th>\n",
              "      <td>1889</td>\n",
              "      <td>3</td>\n",
              "      <td>61</td>\n",
              "      <td>12871</td>\n",
              "      <td>11</td>\n",
              "      <td>6</td>\n",
              "      <td>1</td>\n",
              "      <td>Noon</td>\n",
              "      <td>6</td>\n",
              "      <td>26</td>\n",
              "      <td>...</td>\n",
              "      <td>37</td>\n",
              "      <td>1</td>\n",
              "      <td>0</td>\n",
              "      <td>0</td>\n",
              "      <td>0</td>\n",
              "      <td>1</td>\n",
              "      <td>0</td>\n",
              "      <td>0</td>\n",
              "      <td>0</td>\n",
              "      <td>14</td>\n",
              "    </tr>\n",
              "    <tr>\n",
              "      <th>1</th>\n",
              "      <td>1890</td>\n",
              "      <td>3</td>\n",
              "      <td>54</td>\n",
              "      <td>2569</td>\n",
              "      <td>256</td>\n",
              "      <td>5</td>\n",
              "      <td>1</td>\n",
              "      <td>Morning</td>\n",
              "      <td>2</td>\n",
              "      <td>11</td>\n",
              "      <td>...</td>\n",
              "      <td>22</td>\n",
              "      <td>0</td>\n",
              "      <td>0</td>\n",
              "      <td>0</td>\n",
              "      <td>0</td>\n",
              "      <td>0</td>\n",
              "      <td>0</td>\n",
              "      <td>0</td>\n",
              "      <td>0</td>\n",
              "      <td>10</td>\n",
              "    </tr>\n",
              "    <tr>\n",
              "      <th>2</th>\n",
              "      <td>1891</td>\n",
              "      <td>3</td>\n",
              "      <td>88</td>\n",
              "      <td>1473</td>\n",
              "      <td>78</td>\n",
              "      <td>4</td>\n",
              "      <td>0</td>\n",
              "      <td>Evening</td>\n",
              "      <td>2</td>\n",
              "      <td>11</td>\n",
              "      <td>...</td>\n",
              "      <td>22</td>\n",
              "      <td>1</td>\n",
              "      <td>0</td>\n",
              "      <td>1</td>\n",
              "      <td>0</td>\n",
              "      <td>0</td>\n",
              "      <td>0</td>\n",
              "      <td>0</td>\n",
              "      <td>0</td>\n",
              "      <td>10</td>\n",
              "    </tr>\n",
              "    <tr>\n",
              "      <th>3</th>\n",
              "      <td>1892</td>\n",
              "      <td>3</td>\n",
              "      <td>88</td>\n",
              "      <td>1473</td>\n",
              "      <td>78</td>\n",
              "      <td>3</td>\n",
              "      <td>0</td>\n",
              "      <td>Evening</td>\n",
              "      <td>2</td>\n",
              "      <td>11</td>\n",
              "      <td>...</td>\n",
              "      <td>22</td>\n",
              "      <td>1</td>\n",
              "      <td>0</td>\n",
              "      <td>1</td>\n",
              "      <td>0</td>\n",
              "      <td>0</td>\n",
              "      <td>0</td>\n",
              "      <td>0</td>\n",
              "      <td>0</td>\n",
              "      <td>10</td>\n",
              "    </tr>\n",
              "    <tr>\n",
              "      <th>4</th>\n",
              "      <td>1893</td>\n",
              "      <td>3</td>\n",
              "      <td>78</td>\n",
              "      <td>9020</td>\n",
              "      <td>29</td>\n",
              "      <td>3</td>\n",
              "      <td>0</td>\n",
              "      <td>Noon</td>\n",
              "      <td>6</td>\n",
              "      <td>26</td>\n",
              "      <td>...</td>\n",
              "      <td>40</td>\n",
              "      <td>0</td>\n",
              "      <td>0</td>\n",
              "      <td>0</td>\n",
              "      <td>0</td>\n",
              "      <td>0</td>\n",
              "      <td>0</td>\n",
              "      <td>0</td>\n",
              "      <td>0</td>\n",
              "      <td>14</td>\n",
              "    </tr>\n",
              "  </tbody>\n",
              "</table>\n",
              "<p>5 rows × 21 columns</p>\n",
              "</div>\n",
              "      <button class=\"colab-df-convert\" onclick=\"convertToInteractive('df-a3df9191-bd7c-4d14-9237-9108f9fe345d')\"\n",
              "              title=\"Convert this dataframe to an interactive table.\"\n",
              "              style=\"display:none;\">\n",
              "        \n",
              "  <svg xmlns=\"http://www.w3.org/2000/svg\" height=\"24px\"viewBox=\"0 0 24 24\"\n",
              "       width=\"24px\">\n",
              "    <path d=\"M0 0h24v24H0V0z\" fill=\"none\"/>\n",
              "    <path d=\"M18.56 5.44l.94 2.06.94-2.06 2.06-.94-2.06-.94-.94-2.06-.94 2.06-2.06.94zm-11 1L8.5 8.5l.94-2.06 2.06-.94-2.06-.94L8.5 2.5l-.94 2.06-2.06.94zm10 10l.94 2.06.94-2.06 2.06-.94-2.06-.94-.94-2.06-.94 2.06-2.06.94z\"/><path d=\"M17.41 7.96l-1.37-1.37c-.4-.4-.92-.59-1.43-.59-.52 0-1.04.2-1.43.59L10.3 9.45l-7.72 7.72c-.78.78-.78 2.05 0 2.83L4 21.41c.39.39.9.59 1.41.59.51 0 1.02-.2 1.41-.59l7.78-7.78 2.81-2.81c.8-.78.8-2.07 0-2.86zM5.41 20L4 18.59l7.72-7.72 1.47 1.35L5.41 20z\"/>\n",
              "  </svg>\n",
              "      </button>\n",
              "      \n",
              "  <style>\n",
              "    .colab-df-container {\n",
              "      display:flex;\n",
              "      flex-wrap:wrap;\n",
              "      gap: 12px;\n",
              "    }\n",
              "\n",
              "    .colab-df-convert {\n",
              "      background-color: #E8F0FE;\n",
              "      border: none;\n",
              "      border-radius: 50%;\n",
              "      cursor: pointer;\n",
              "      display: none;\n",
              "      fill: #1967D2;\n",
              "      height: 32px;\n",
              "      padding: 0 0 0 0;\n",
              "      width: 32px;\n",
              "    }\n",
              "\n",
              "    .colab-df-convert:hover {\n",
              "      background-color: #E2EBFA;\n",
              "      box-shadow: 0px 1px 2px rgba(60, 64, 67, 0.3), 0px 1px 3px 1px rgba(60, 64, 67, 0.15);\n",
              "      fill: #174EA6;\n",
              "    }\n",
              "\n",
              "    [theme=dark] .colab-df-convert {\n",
              "      background-color: #3B4455;\n",
              "      fill: #D2E3FC;\n",
              "    }\n",
              "\n",
              "    [theme=dark] .colab-df-convert:hover {\n",
              "      background-color: #434B5C;\n",
              "      box-shadow: 0px 1px 3px 1px rgba(0, 0, 0, 0.15);\n",
              "      filter: drop-shadow(0px 1px 2px rgba(0, 0, 0, 0.3));\n",
              "      fill: #FFFFFF;\n",
              "    }\n",
              "  </style>\n",
              "\n",
              "      <script>\n",
              "        const buttonEl =\n",
              "          document.querySelector('#df-a3df9191-bd7c-4d14-9237-9108f9fe345d button.colab-df-convert');\n",
              "        buttonEl.style.display =\n",
              "          google.colab.kernel.accessAllowed ? 'block' : 'none';\n",
              "\n",
              "        async function convertToInteractive(key) {\n",
              "          const element = document.querySelector('#df-a3df9191-bd7c-4d14-9237-9108f9fe345d');\n",
              "          const dataTable =\n",
              "            await google.colab.kernel.invokeFunction('convertToInteractive',\n",
              "                                                     [key], {});\n",
              "          if (!dataTable) return;\n",
              "\n",
              "          const docLinkHtml = 'Like what you see? Visit the ' +\n",
              "            '<a target=\"_blank\" href=https://colab.research.google.com/notebooks/data_table.ipynb>data table notebook</a>'\n",
              "            + ' to learn more about interactive tables.';\n",
              "          element.innerHTML = '';\n",
              "          dataTable['output_type'] = 'display_data';\n",
              "          await google.colab.output.renderOutput(dataTable, element);\n",
              "          const docLink = document.createElement('div');\n",
              "          docLink.innerHTML = docLinkHtml;\n",
              "          element.appendChild(docLink);\n",
              "        }\n",
              "      </script>\n",
              "    </div>\n",
              "  </div>\n",
              "  "
            ]
          },
          "metadata": {},
          "execution_count": 87
        }
      ]
    },
    {
      "cell_type": "code",
      "source": [
        "#CHECKING FOR ANY NULL VALUES\n",
        "special_char=['!','@',\"$\",'%','^','&',\"*\",\"(\",')','-',\"<\",'>','?','/',':',';',',']\n",
        "df_train.replace(special_char, np.nan, inplace=True)                     #converting special character if exist into nan values\n",
        "df_train.isnull().sum()"
      ],
      "metadata": {
        "colab": {
          "base_uri": "https://localhost:8080/"
        },
        "id": "19ZxMg-i-ct9",
        "outputId": "d87b3ebc-3d7e-461b-da0f-fcba37e4971b"
      },
      "execution_count": 88,
      "outputs": [
        {
          "output_type": "execute_result",
          "data": {
            "text/plain": [
              "campaign_id           0\n",
              "sender                0\n",
              "subject_len           0\n",
              "body_len              0\n",
              "mean_paragraph_len    0\n",
              "day_of_week           0\n",
              "is_weekend            0\n",
              "times_of_day          0\n",
              "category              0\n",
              "product               0\n",
              "no_of_CTA             0\n",
              "mean_CTA_len          0\n",
              "is_image              0\n",
              "is_personalised       0\n",
              "is_quote              0\n",
              "is_timer              0\n",
              "is_emoticons          0\n",
              "is_discount           0\n",
              "is_price              0\n",
              "is_urgency            0\n",
              "target_audience       0\n",
              "click_rate            0\n",
              "dtype: int64"
            ]
          },
          "metadata": {},
          "execution_count": 88
        }
      ]
    },
    {
      "cell_type": "markdown",
      "source": [
        "**No Null values exhibits in the data. We can process further.**"
      ],
      "metadata": {
        "id": "E0le-hoK9UYs"
      }
    },
    {
      "cell_type": "markdown",
      "source": [
        "**DATA VISUALISATION**"
      ],
      "metadata": {
        "id": "BXHKzDNfZW72"
      }
    },
    {
      "cell_type": "code",
      "source": [
        "figure, ax= plt.subplots(1,3, figsize=(15,5))\n",
        "\n",
        "sns.scatterplot(df_train[\"click_rate\"], df_train[\"target_audience\"], palette=\"Blues\", ax=ax[0])\n",
        "sns.kdeplot(df_train[\"click_rate\"], palette=\"Blues\", ax=ax[1])\n",
        "sns.boxplot( x=df_train[\"sender\"],y=df_train[\"click_rate\"],  palette=\"Blues\", ax=ax[2])\n",
        "\n",
        "ax[0].set_title(\"Click Rate VS Target Audience\")\n",
        "\n",
        "ax[1].set_title(\"Distribution of Click Rate\")\n",
        "\n",
        "ax[2].set_title(\"Sender VS Click Rate\")\n",
        "plt.show()"
      ],
      "metadata": {
        "id": "664wMKybkfN6",
        "colab": {
          "base_uri": "https://localhost:8080/",
          "height": 351
        },
        "outputId": "634ad0f7-2819-4ff9-ba66-b8924593e91f"
      },
      "execution_count": 89,
      "outputs": [
        {
          "output_type": "display_data",
          "data": {
            "text/plain": [
              "<Figure size 1080x360 with 3 Axes>"
            ],
            "image/png": "[encoded data removed]"
          },
          "metadata": {
            "needs_background": "light"
          }
        }
      ]
    },
    {
      "cell_type": "markdown",
      "source": [
        "**INTERPRETATION : 1. Audience cluster number 12 has maximum number of clicks with having highest click rate.**\n",
        "\n",
        "**2. Click rate has right skwed data.**\n",
        "\n",
        "**3. Sender 7  has highest conversion of mails into click and hence has highest CTR.**"
      ],
      "metadata": {
        "id": "oc24j9tDkgPf"
      }
    },
    {
      "cell_type": "code",
      "source": [
        "#CHECKING THE DATATYPES\n",
        "df_train.dtypes"
      ],
      "metadata": {
        "colab": {
          "base_uri": "https://localhost:8080/"
        },
        "id": "jvNt68UmK_ff",
        "outputId": "0d204f0f-de6c-456a-c63c-169bd3326f48"
      },
      "execution_count": 90,
      "outputs": [
        {
          "output_type": "execute_result",
          "data": {
            "text/plain": [
              "campaign_id             int64\n",
              "sender                  int64\n",
              "subject_len             int64\n",
              "body_len                int64\n",
              "mean_paragraph_len      int64\n",
              "day_of_week             int64\n",
              "is_weekend              int64\n",
              "times_of_day           object\n",
              "category                int64\n",
              "product                 int64\n",
              "no_of_CTA               int64\n",
              "mean_CTA_len            int64\n",
              "is_image                int64\n",
              "is_personalised         int64\n",
              "is_quote                int64\n",
              "is_timer                int64\n",
              "is_emoticons            int64\n",
              "is_discount             int64\n",
              "is_price                int64\n",
              "is_urgency              int64\n",
              "target_audience         int64\n",
              "click_rate            float64\n",
              "dtype: object"
            ]
          },
          "metadata": {},
          "execution_count": 90
        }
      ]
    },
    {
      "cell_type": "code",
      "source": [
        "df= pd.get_dummies(df_train[\"times_of_day\"])          #creating dummy variables of train dataset in the place of \"times of day\"\n",
        "df_train= pd.concat([df_train, df], axis=1).reindex(df_train.index)\n",
        "df_train.drop([\"times_of_day\",\"campaign_id\"] ,axis=1, inplace=True)\n",
        "\n",
        "\n",
        "df= pd.get_dummies(df_test[\"times_of_day\"])            #creating dummy variables of test dataset in the place of \"times of day\"\n",
        "df_test= pd.concat([df_test, df], axis=1).reindex(df_test.index)\n",
        "df_test.drop([\"times_of_day\",\"campaign_id\"] ,axis=1, inplace=True)"
      ],
      "metadata": {
        "id": "j-O_blIsVozn"
      },
      "execution_count": 91,
      "outputs": []
    },
    {
      "cell_type": "markdown",
      "source": [
        "**INTERPRETATION : Dummy technique is used to convert categorical data into numerical due to non linear values exhibits in the categorical feature - \"times_of_day\"**"
      ],
      "metadata": {
        "id": "ub_ZtufQZNYo"
      }
    },
    {
      "cell_type": "code",
      "source": [
        "#SHAPE OF GIVEN TEST AND TRAIN DATASET \n",
        "\n",
        "print(\"The size of Train data is {} \\nand the size of Test dataset is {}\".format({df_train.shape}, {df_test.shape}))"
      ],
      "metadata": {
        "colab": {
          "base_uri": "https://localhost:8080/"
        },
        "id": "HXr7YHksOQKj",
        "outputId": "bfa74239-ef84-45b8-9e02-a210022c7d28"
      },
      "execution_count": 92,
      "outputs": [
        {
          "output_type": "stream",
          "name": "stdout",
          "text": [
            "The size of Train data is {(1888, 23)} \n",
            "and the size of Test dataset is {(762, 22)}\n"
          ]
        }
      ]
    },
    {
      "cell_type": "markdown",
      "source": [
        "**INTERPRETATION : Given Train and Test datasets are divided into the ratio of 60:40 where 60% of data are belongs to Train dataset and rest 40% belongs to test dataset.**"
      ],
      "metadata": {
        "id": "2spGwInRESnJ"
      }
    },
    {
      "cell_type": "code",
      "source": [
        "Features =[]\n",
        "scores=[] \n",
        "columns = df_train.columns\n",
        "for col in columns:\n",
        "  if col==\"click_rate\":\n",
        "    continue\n",
        "  else:\n",
        "    lm = LinearRegression()\n",
        "    lm.fit(df_train[[col]], df_train[\"click_rate\"])\n",
        "    scores.append(lm.score(df_train[[col]], df_train[\"click_rate\"]))       #using score method to find correlated ranked features\n",
        "    Features.append(col)\n",
        "\n",
        "high_scores= pd.concat([pd.DataFrame(Features, columns=[\"Features\"]), pd.DataFrame(scores, columns= [\"Scores\"])], axis=1)\n",
        "high_scores.sort_values(\"Scores\", ascending=False, inplace=True, ignore_index=True)\n",
        "\n",
        "high_scores   #CONSIDERING TOP RANKED CORELLATED FEATURES FOR FURTHER ANALYSIS"
      ],
      "metadata": {
        "colab": {
          "base_uri": "https://localhost:8080/",
          "height": 739
        },
        "id": "tKboW1VnFGL-",
        "outputId": "4aaf7d8f-0b18-4546-bd01-8f5a40aeb165"
      },
      "execution_count": 93,
      "outputs": [
        {
          "output_type": "execute_result",
          "data": {
            "text/plain": [
              "              Features    Scores\n",
              "0             body_len  0.061437\n",
              "1          subject_len  0.032452\n",
              "2   mean_paragraph_len  0.031699\n",
              "3            no_of_CTA  0.029803\n",
              "4             category  0.028142\n",
              "5              Evening  0.022003\n",
              "6              product  0.014787\n",
              "7              Morning  0.014248\n",
              "8           is_urgency  0.013061\n",
              "9           is_weekend  0.013028\n",
              "10            is_quote  0.009683\n",
              "11        is_emoticons  0.008893\n",
              "12                Noon  0.008230\n",
              "13         day_of_week  0.007460\n",
              "14         is_discount  0.007414\n",
              "15     target_audience  0.001499\n",
              "16     is_personalised  0.001084\n",
              "17              sender  0.000986\n",
              "18        mean_CTA_len  0.000971\n",
              "19            is_price  0.000933\n",
              "20            is_image  0.000463\n",
              "21            is_timer  0.000000"
            ],
            "text/html": [
              "\n",
              "  <div id=\"df-24add1ba-eecd-49f7-8724-b6b57f803942\">\n",
              "    <div class=\"colab-df-container\">\n",
              "      <div>\n",
              "<style scoped>\n",
              "    .dataframe tbody tr th:only-of-type {\n",
              "        vertical-align: middle;\n",
              "    }\n",
              "\n",
              "    .dataframe tbody tr th {\n",
              "        vertical-align: top;\n",
              "    }\n",
              "\n",
              "    .dataframe thead th {\n",
              "        text-align: right;\n",
              "    }\n",
              "</style>\n",
              "<table border=\"1\" class=\"dataframe\">\n",
              "  <thead>\n",
              "    <tr style=\"text-align: right;\">\n",
              "      <th></th>\n",
              "      <th>Features</th>\n",
              "      <th>Scores</th>\n",
              "    </tr>\n",
              "  </thead>\n",
              "  <tbody>\n",
              "    <tr>\n",
              "      <th>0</th>\n",
              "      <td>body_len</td>\n",
              "      <td>0.061437</td>\n",
              "    </tr>\n",
              "    <tr>\n",
              "      <th>1</th>\n",
              "      <td>subject_len</td>\n",
              "      <td>0.032452</td>\n",
              "    </tr>\n",
              "    <tr>\n",
              "      <th>2</th>\n",
              "      <td>mean_paragraph_len</td>\n",
              "      <td>0.031699</td>\n",
              "    </tr>\n",
              "    <tr>\n",
              "      <th>3</th>\n",
              "      <td>no_of_CTA</td>\n",
              "      <td>0.029803</td>\n",
              "    </tr>\n",
              "    <tr>\n",
              "      <th>4</th>\n",
              "      <td>category</td>\n",
              "      <td>0.028142</td>\n",
              "    </tr>\n",
              "    <tr>\n",
              "      <th>5</th>\n",
              "      <td>Evening</td>\n",
              "      <td>0.022003</td>\n",
              "    </tr>\n",
              "    <tr>\n",
              "      <th>6</th>\n",
              "      <td>product</td>\n",
              "      <td>0.014787</td>\n",
              "    </tr>\n",
              "    <tr>\n",
              "      <th>7</th>\n",
              "      <td>Morning</td>\n",
              "      <td>0.014248</td>\n",
              "    </tr>\n",
              "    <tr>\n",
              "      <th>8</th>\n",
              "      <td>is_urgency</td>\n",
              "      <td>0.013061</td>\n",
              "    </tr>\n",
              "    <tr>\n",
              "      <th>9</th>\n",
              "      <td>is_weekend</td>\n",
              "      <td>0.013028</td>\n",
              "    </tr>\n",
              "    <tr>\n",
              "      <th>10</th>\n",
              "      <td>is_quote</td>\n",
              "      <td>0.009683</td>\n",
              "    </tr>\n",
              "    <tr>\n",
              "      <th>11</th>\n",
              "      <td>is_emoticons</td>\n",
              "      <td>0.008893</td>\n",
              "    </tr>\n",
              "    <tr>\n",
              "      <th>12</th>\n",
              "      <td>Noon</td>\n",
              "      <td>0.008230</td>\n",
              "    </tr>\n",
              "    <tr>\n",
              "      <th>13</th>\n",
              "      <td>day_of_week</td>\n",
              "      <td>0.007460</td>\n",
              "    </tr>\n",
              "    <tr>\n",
              "      <th>14</th>\n",
              "      <td>is_discount</td>\n",
              "      <td>0.007414</td>\n",
              "    </tr>\n",
              "    <tr>\n",
              "      <th>15</th>\n",
              "      <td>target_audience</td>\n",
              "      <td>0.001499</td>\n",
              "    </tr>\n",
              "    <tr>\n",
              "      <th>16</th>\n",
              "      <td>is_personalised</td>\n",
              "      <td>0.001084</td>\n",
              "    </tr>\n",
              "    <tr>\n",
              "      <th>17</th>\n",
              "      <td>sender</td>\n",
              "      <td>0.000986</td>\n",
              "    </tr>\n",
              "    <tr>\n",
              "      <th>18</th>\n",
              "      <td>mean_CTA_len</td>\n",
              "      <td>0.000971</td>\n",
              "    </tr>\n",
              "    <tr>\n",
              "      <th>19</th>\n",
              "      <td>is_price</td>\n",
              "      <td>0.000933</td>\n",
              "    </tr>\n",
              "    <tr>\n",
              "      <th>20</th>\n",
              "      <td>is_image</td>\n",
              "      <td>0.000463</td>\n",
              "    </tr>\n",
              "    <tr>\n",
              "      <th>21</th>\n",
              "      <td>is_timer</td>\n",
              "      <td>0.000000</td>\n",
              "    </tr>\n",
              "  </tbody>\n",
              "</table>\n",
              "</div>\n",
              "      <button class=\"colab-df-convert\" onclick=\"convertToInteractive('df-24add1ba-eecd-49f7-8724-b6b57f803942')\"\n",
              "              title=\"Convert this dataframe to an interactive table.\"\n",
              "              style=\"display:none;\">\n",
              "        \n",
              "  <svg xmlns=\"http://www.w3.org/2000/svg\" height=\"24px\"viewBox=\"0 0 24 24\"\n",
              "       width=\"24px\">\n",
              "    <path d=\"M0 0h24v24H0V0z\" fill=\"none\"/>\n",
              "    <path d=\"M18.56 5.44l.94 2.06.94-2.06 2.06-.94-2.06-.94-.94-2.06-.94 2.06-2.06.94zm-11 1L8.5 8.5l.94-2.06 2.06-.94-2.06-.94L8.5 2.5l-.94 2.06-2.06.94zm10 10l.94 2.06.94-2.06 2.06-.94-2.06-.94-.94-2.06-.94 2.06-2.06.94z\"/><path d=\"M17.41 7.96l-1.37-1.37c-.4-.4-.92-.59-1.43-.59-.52 0-1.04.2-1.43.59L10.3 9.45l-7.72 7.72c-.78.78-.78 2.05 0 2.83L4 21.41c.39.39.9.59 1.41.59.51 0 1.02-.2 1.41-.59l7.78-7.78 2.81-2.81c.8-.78.8-2.07 0-2.86zM5.41 20L4 18.59l7.72-7.72 1.47 1.35L5.41 20z\"/>\n",
              "  </svg>\n",
              "      </button>\n",
              "      \n",
              "  <style>\n",
              "    .colab-df-container {\n",
              "      display:flex;\n",
              "      flex-wrap:wrap;\n",
              "      gap: 12px;\n",
              "    }\n",
              "\n",
              "    .colab-df-convert {\n",
              "      background-color: #E8F0FE;\n",
              "      border: none;\n",
              "      border-radius: 50%;\n",
              "      cursor: pointer;\n",
              "      display: none;\n",
              "      fill: #1967D2;\n",
              "      height: 32px;\n",
              "      padding: 0 0 0 0;\n",
              "      width: 32px;\n",
              "    }\n",
              "\n",
              "    .colab-df-convert:hover {\n",
              "      background-color: #E2EBFA;\n",
              "      box-shadow: 0px 1px 2px rgba(60, 64, 67, 0.3), 0px 1px 3px 1px rgba(60, 64, 67, 0.15);\n",
              "      fill: #174EA6;\n",
              "    }\n",
              "\n",
              "    [theme=dark] .colab-df-convert {\n",
              "      background-color: #3B4455;\n",
              "      fill: #D2E3FC;\n",
              "    }\n",
              "\n",
              "    [theme=dark] .colab-df-convert:hover {\n",
              "      background-color: #434B5C;\n",
              "      box-shadow: 0px 1px 3px 1px rgba(0, 0, 0, 0.15);\n",
              "      filter: drop-shadow(0px 1px 2px rgba(0, 0, 0, 0.3));\n",
              "      fill: #FFFFFF;\n",
              "    }\n",
              "  </style>\n",
              "\n",
              "      <script>\n",
              "        const buttonEl =\n",
              "          document.querySelector('#df-24add1ba-eecd-49f7-8724-b6b57f803942 button.colab-df-convert');\n",
              "        buttonEl.style.display =\n",
              "          google.colab.kernel.accessAllowed ? 'block' : 'none';\n",
              "\n",
              "        async function convertToInteractive(key) {\n",
              "          const element = document.querySelector('#df-24add1ba-eecd-49f7-8724-b6b57f803942');\n",
              "          const dataTable =\n",
              "            await google.colab.kernel.invokeFunction('convertToInteractive',\n",
              "                                                     [key], {});\n",
              "          if (!dataTable) return;\n",
              "\n",
              "          const docLinkHtml = 'Like what you see? Visit the ' +\n",
              "            '<a target=\"_blank\" href=https://colab.research.google.com/notebooks/data_table.ipynb>data table notebook</a>'\n",
              "            + ' to learn more about interactive tables.';\n",
              "          element.innerHTML = '';\n",
              "          dataTable['output_type'] = 'display_data';\n",
              "          await google.colab.output.renderOutput(dataTable, element);\n",
              "          const docLink = document.createElement('div');\n",
              "          docLink.innerHTML = docLinkHtml;\n",
              "          element.appendChild(docLink);\n",
              "        }\n",
              "      </script>\n",
              "    </div>\n",
              "  </div>\n",
              "  "
            ]
          },
          "metadata": {},
          "execution_count": 93
        }
      ]
    },
    {
      "cell_type": "code",
      "source": [
        "# Barplot for Ranking of features\n",
        "plt.figure(figsize=(15,8))\n",
        "sns.barplot( high_scores[\"Scores\"], high_scores[\"Features\"], palette = \"Blues\")\n",
        "plt.title(\"Ranking according to the correlation with target variable\", fontsize = 16)\n",
        "plt.show()"
      ],
      "metadata": {
        "colab": {
          "base_uri": "https://localhost:8080/",
          "height": 515
        },
        "id": "GT2dV0eFJqKd",
        "outputId": "f77b1c69-143f-481b-89b3-6dade456bd16"
      },
      "execution_count": 94,
      "outputs": [
        {
          "output_type": "display_data",
          "data": {
            "text/plain": [
              "<Figure size 1080x576 with 1 Axes>"
            ],
            "image/png": "[encoded data removed]"
          },
          "metadata": {
            "needs_background": "light"
          }
        }
      ]
    },
    {
      "cell_type": "markdown",
      "source": [
        "**INTERPRETATION : As all features has correlation ranking with target variable \"Click_rate\" except timer so except the timer we are considering all the features of the processed train set.**"
      ],
      "metadata": {
        "id": "KW8UgwkmYA_7"
      }
    },
    {
      "cell_type": "code",
      "source": [
        "#DATA SPLITTING (60:40 ratio via train_test_split technique)\n",
        "\n",
        "X = df_train[high_scores.Features[:22]]\n",
        "y= df_train[\"click_rate\"]\n",
        "\n",
        "from sklearn.model_selection import train_test_split\n",
        "X_train, X_test, y_train, y_test= train_test_split(X, y, test_size=0.403, random_state=1)     #taking test size as 0.403 as given train and test data is divided into 60:40 ratio \n",
        "\n",
        "print(\"The shape of Train Data is {} \\nand Test Data is {}\".format({X_train.shape}, {X_test.shape}))"
      ],
      "metadata": {
        "colab": {
          "base_uri": "https://localhost:8080/"
        },
        "id": "VL_3-nUoKmNC",
        "outputId": "17ad75ab-e606-43e9-f1d1-915369d2a06b"
      },
      "execution_count": 95,
      "outputs": [
        {
          "output_type": "stream",
          "name": "stdout",
          "text": [
            "The shape of Train Data is {(1127, 22)} \n",
            "and Test Data is {(761, 22)}\n"
          ]
        }
      ]
    },
    {
      "cell_type": "markdown",
      "source": [
        "**MODELLING USING REGRESSION METHOD**"
      ],
      "metadata": {
        "id": "uVk01voJPC5f"
      }
    },
    {
      "cell_type": "code",
      "source": [
        "model_linear= LinearRegression().fit(X_train, y_train)     #USING LINEAR REGRESSION MODEL\n",
        "y_pred= model_linear.predict(X_test)\n",
        "\n",
        "print(\"The R2 score of Linear regression model : \", r2_score(y_test, y_pred))"
      ],
      "metadata": {
        "colab": {
          "base_uri": "https://localhost:8080/"
        },
        "id": "3dkBNL53V3V8",
        "outputId": "875d9377-c793-4efd-8e39-8ad6824242c4"
      },
      "execution_count": 96,
      "outputs": [
        {
          "output_type": "stream",
          "name": "stdout",
          "text": [
            "The R2 score of Linear regression model :  0.12633632368958714\n"
          ]
        }
      ]
    },
    {
      "cell_type": "code",
      "source": [
        "model_random= RandomForestRegressor(n_estimators=100)      #USING RANDOM FOREST REGRESSION MODEL\n",
        "model_random.fit(X_train, y_train)\n",
        "y_pred= model_random.predict(X_test)\n",
        "# R squared value\n",
        "print(\"The R2 score of Random Forest regression model : \",r2_score(y_test, y_pred))"
      ],
      "metadata": {
        "colab": {
          "base_uri": "https://localhost:8080/"
        },
        "id": "V-oZ58p2QsHt",
        "outputId": "f75994e7-0662-4527-f243-324e886cc413"
      },
      "execution_count": 97,
      "outputs": [
        {
          "output_type": "stream",
          "name": "stdout",
          "text": [
            "The R2 score of Random Forest regression model :  0.5493695275210297\n"
          ]
        }
      ]
    },
    {
      "cell_type": "code",
      "source": [
        "model_decision= DecisionTreeRegressor(max_depth=3)\n",
        "model_decision.fit(X_train, y_train)                        #USING DECISSION TREE REGRESSION MODEL\n",
        "y_pred= model_decision.predict(X_test)\n",
        "\n",
        "# R squared value\n",
        "print(\"The R2 score of Decision Tree regression model : \",r2_score(y_test, y_pred))"
      ],
      "metadata": {
        "colab": {
          "base_uri": "https://localhost:8080/"
        },
        "id": "k9DanSVVRnxO",
        "outputId": "09fa725a-d02d-4b85-c87d-278f7b642449"
      },
      "execution_count": 98,
      "outputs": [
        {
          "output_type": "stream",
          "name": "stdout",
          "text": [
            "The R2 score of Decision Tree regression model :  0.04161670511812765\n"
          ]
        }
      ]
    },
    {
      "cell_type": "code",
      "source": [
        "#USING CROSS VALIDATION TECHNIQUE FOR MODEL SELECTION\n",
        "\n",
        "print(\"Linear Regression Model R2 Scores = \",cross_val_score(LinearRegression(),X_train, y_train, cv=5, scoring=\"r2\"))\n",
        "print(\"Decison Tree Model R2 Scores = \",cross_val_score(DecisionTreeRegressor(),X_train, y_train, cv=5))\n",
        "print(\"Random Forest Model R2 Scores = \",cross_val_score(RandomForestRegressor(),X_train, y_train, cv=5))\n",
        "print(\"Lasso Model R2 Scores = \",cross_val_score(Lasso(),X_train, y_train, cv=5))\n",
        "print(\"KNeighborsRegressor Model R2 Scores = \",cross_val_score(KNeighborsRegressor(),X_train, y_train, cv=5))\n"
      ],
      "metadata": {
        "colab": {
          "base_uri": "https://localhost:8080/"
        },
        "id": "fhcrfxJgV5ht",
        "outputId": "3742235e-1bfd-4b3d-e3de-179f65238702"
      },
      "execution_count": 99,
      "outputs": [
        {
          "output_type": "stream",
          "name": "stdout",
          "text": [
            "Linear Regression Model R2 Scores =  [ 0.17293391  0.15269266  0.15036063 -0.04277661  0.12056429]\n",
            "Decison Tree Model R2 Scores =  [-0.18493275 -0.40521055  0.12213677 -0.51573768 -0.27923979]\n",
            "Random Forest Model R2 Scores =  [0.4826824  0.40489738 0.41831818 0.1445228  0.30522535]\n",
            "Lasso Model R2 Scores =  [ 0.06883745  0.09531576  0.08933516 -0.02132903  0.0570485 ]\n",
            "KNeighborsRegressor Model R2 Scores =  [0.178379   0.03878165 0.09397418 0.10662229 0.15515695]\n"
          ]
        }
      ]
    },
    {
      "cell_type": "markdown",
      "source": [
        "**CONCLUSION : From the above R2 scores we interpret that Random Forest Regressor is good model among the all regression models giving the R2 score of 0.5** "
      ],
      "metadata": {
        "id": "D2-6OzOtS-B5"
      }
    },
    {
      "cell_type": "markdown",
      "source": [
        "**Finding the prediction for the given test data:**"
      ],
      "metadata": {
        "id": "MwibqzkhrA1d"
      }
    },
    {
      "cell_type": "code",
      "source": [
        "y_predict_test= model_random.predict(df_test)   #using the final Random Forest regression model to predict the target variable \"click_rate\"\n",
        "\n",
        "df= pd.concat([df_test1[\"campaign_id\"], pd.DataFrame(y_predict_test, columns= [\"click_rate\"])], axis=1 )\n",
        "df"
      ],
      "metadata": {
        "colab": {
          "base_uri": "https://localhost:8080/",
          "height": 423
        },
        "id": "575G5p_ZrV2K",
        "outputId": "afe42aae-dd35-4ba5-f920-bce9000d3a12"
      },
      "execution_count": 100,
      "outputs": [
        {
          "output_type": "execute_result",
          "data": {
            "text/plain": [
              "     campaign_id  click_rate\n",
              "0           1889    0.167659\n",
              "1           1890    0.187027\n",
              "2           1891    0.187062\n",
              "3           1892    0.187362\n",
              "4           1893    0.179580\n",
              "..           ...         ...\n",
              "757         2646    0.134425\n",
              "758         2647    0.204111\n",
              "759         2648    0.132241\n",
              "760         2649    0.203978\n",
              "761         2650    0.211849\n",
              "\n",
              "[762 rows x 2 columns]"
            ],
            "text/html": [
              "\n",
              "  <div id=\"df-0842d608-8c1d-4e00-9f72-8d0ccc979592\">\n",
              "    <div class=\"colab-df-container\">\n",
              "      <div>\n",
              "<style scoped>\n",
              "    .dataframe tbody tr th:only-of-type {\n",
              "        vertical-align: middle;\n",
              "    }\n",
              "\n",
              "    .dataframe tbody tr th {\n",
              "        vertical-align: top;\n",
              "    }\n",
              "\n",
              "    .dataframe thead th {\n",
              "        text-align: right;\n",
              "    }\n",
              "</style>\n",
              "<table border=\"1\" class=\"dataframe\">\n",
              "  <thead>\n",
              "    <tr style=\"text-align: right;\">\n",
              "      <th></th>\n",
              "      <th>campaign_id</th>\n",
              "      <th>click_rate</th>\n",
              "    </tr>\n",
              "  </thead>\n",
              "  <tbody>\n",
              "    <tr>\n",
              "      <th>0</th>\n",
              "      <td>1889</td>\n",
              "      <td>0.167659</td>\n",
              "    </tr>\n",
              "    <tr>\n",
              "      <th>1</th>\n",
              "      <td>1890</td>\n",
              "      <td>0.187027</td>\n",
              "    </tr>\n",
              "    <tr>\n",
              "      <th>2</th>\n",
              "      <td>1891</td>\n",
              "      <td>0.187062</td>\n",
              "    </tr>\n",
              "    <tr>\n",
              "      <th>3</th>\n",
              "      <td>1892</td>\n",
              "      <td>0.187362</td>\n",
              "    </tr>\n",
              "    <tr>\n",
              "      <th>4</th>\n",
              "      <td>1893</td>\n",
              "      <td>0.179580</td>\n",
              "    </tr>\n",
              "    <tr>\n",
              "      <th>...</th>\n",
              "      <td>...</td>\n",
              "      <td>...</td>\n",
              "    </tr>\n",
              "    <tr>\n",
              "      <th>757</th>\n",
              "      <td>2646</td>\n",
              "      <td>0.134425</td>\n",
              "    </tr>\n",
              "    <tr>\n",
              "      <th>758</th>\n",
              "      <td>2647</td>\n",
              "      <td>0.204111</td>\n",
              "    </tr>\n",
              "    <tr>\n",
              "      <th>759</th>\n",
              "      <td>2648</td>\n",
              "      <td>0.132241</td>\n",
              "    </tr>\n",
              "    <tr>\n",
              "      <th>760</th>\n",
              "      <td>2649</td>\n",
              "      <td>0.203978</td>\n",
              "    </tr>\n",
              "    <tr>\n",
              "      <th>761</th>\n",
              "      <td>2650</td>\n",
              "      <td>0.211849</td>\n",
              "    </tr>\n",
              "  </tbody>\n",
              "</table>\n",
              "<p>762 rows × 2 columns</p>\n",
              "</div>\n",
              "      <button class=\"colab-df-convert\" onclick=\"convertToInteractive('df-0842d608-8c1d-4e00-9f72-8d0ccc979592')\"\n",
              "              title=\"Convert this dataframe to an interactive table.\"\n",
              "              style=\"display:none;\">\n",
              "        \n",
              "  <svg xmlns=\"http://www.w3.org/2000/svg\" height=\"24px\"viewBox=\"0 0 24 24\"\n",
              "       width=\"24px\">\n",
              "    <path d=\"M0 0h24v24H0V0z\" fill=\"none\"/>\n",
              "    <path d=\"M18.56 5.44l.94 2.06.94-2.06 2.06-.94-2.06-.94-.94-2.06-.94 2.06-2.06.94zm-11 1L8.5 8.5l.94-2.06 2.06-.94-2.06-.94L8.5 2.5l-.94 2.06-2.06.94zm10 10l.94 2.06.94-2.06 2.06-.94-2.06-.94-.94-2.06-.94 2.06-2.06.94z\"/><path d=\"M17.41 7.96l-1.37-1.37c-.4-.4-.92-.59-1.43-.59-.52 0-1.04.2-1.43.59L10.3 9.45l-7.72 7.72c-.78.78-.78 2.05 0 2.83L4 21.41c.39.39.9.59 1.41.59.51 0 1.02-.2 1.41-.59l7.78-7.78 2.81-2.81c.8-.78.8-2.07 0-2.86zM5.41 20L4 18.59l7.72-7.72 1.47 1.35L5.41 20z\"/>\n",
              "  </svg>\n",
              "      </button>\n",
              "      \n",
              "  <style>\n",
              "    .colab-df-container {\n",
              "      display:flex;\n",
              "      flex-wrap:wrap;\n",
              "      gap: 12px;\n",
              "    }\n",
              "\n",
              "    .colab-df-convert {\n",
              "      background-color: #E8F0FE;\n",
              "      border: none;\n",
              "      border-radius: 50%;\n",
              "      cursor: pointer;\n",
              "      display: none;\n",
              "      fill: #1967D2;\n",
              "      height: 32px;\n",
              "      padding: 0 0 0 0;\n",
              "      width: 32px;\n",
              "    }\n",
              "\n",
              "    .colab-df-convert:hover {\n",
              "      background-color: #E2EBFA;\n",
              "      box-shadow: 0px 1px 2px rgba(60, 64, 67, 0.3), 0px 1px 3px 1px rgba(60, 64, 67, 0.15);\n",
              "      fill: #174EA6;\n",
              "    }\n",
              "\n",
              "    [theme=dark] .colab-df-convert {\n",
              "      background-color: #3B4455;\n",
              "      fill: #D2E3FC;\n",
              "    }\n",
              "\n",
              "    [theme=dark] .colab-df-convert:hover {\n",
              "      background-color: #434B5C;\n",
              "      box-shadow: 0px 1px 3px 1px rgba(0, 0, 0, 0.15);\n",
              "      filter: drop-shadow(0px 1px 2px rgba(0, 0, 0, 0.3));\n",
              "      fill: #FFFFFF;\n",
              "    }\n",
              "  </style>\n",
              "\n",
              "      <script>\n",
              "        const buttonEl =\n",
              "          document.querySelector('#df-0842d608-8c1d-4e00-9f72-8d0ccc979592 button.colab-df-convert');\n",
              "        buttonEl.style.display =\n",
              "          google.colab.kernel.accessAllowed ? 'block' : 'none';\n",
              "\n",
              "        async function convertToInteractive(key) {\n",
              "          const element = document.querySelector('#df-0842d608-8c1d-4e00-9f72-8d0ccc979592');\n",
              "          const dataTable =\n",
              "            await google.colab.kernel.invokeFunction('convertToInteractive',\n",
              "                                                     [key], {});\n",
              "          if (!dataTable) return;\n",
              "\n",
              "          const docLinkHtml = 'Like what you see? Visit the ' +\n",
              "            '<a target=\"_blank\" href=https://colab.research.google.com/notebooks/data_table.ipynb>data table notebook</a>'\n",
              "            + ' to learn more about interactive tables.';\n",
              "          element.innerHTML = '';\n",
              "          dataTable['output_type'] = 'display_data';\n",
              "          await google.colab.output.renderOutput(dataTable, element);\n",
              "          const docLink = document.createElement('div');\n",
              "          docLink.innerHTML = docLinkHtml;\n",
              "          element.appendChild(docLink);\n",
              "        }\n",
              "      </script>\n",
              "    </div>\n",
              "  </div>\n",
              "  "
            ]
          },
          "metadata": {},
          "execution_count": 100
        }
      ]
    },
    {
      "cell_type": "code",
      "source": [
        "df.to_csv('my_submission.csv', index=False)"
      ],
      "metadata": {
        "id": "2b4vsE9VSbdf"
      },
      "execution_count": 102,
      "outputs": []
    },
    {
      "cell_type": "code",
      "source": [
        ""
      ],
      "metadata": {
        "id": "xb9vuJZfU0Cb"
      },
      "execution_count": 101,
      "outputs": []
    }
  ]
}